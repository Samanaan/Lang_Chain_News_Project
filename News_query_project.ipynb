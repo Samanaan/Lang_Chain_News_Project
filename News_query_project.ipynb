{
  "cells": [
    {
      "cell_type": "code",
      "execution_count": null,
      "id": "71a8da80",
      "metadata": {},
      "outputs": [],
      "source": [
        "# Run requirments from txt file for user to easily install needed packages.\n",
        "#pip install -r requirements\n",
        "#conda install -c conda-forge pyarrow\n",
        "#conda install -c conda-forge datasets\n",
        "#conda install -c conda-forge langchain\n",
        "#pip install unstructured\n",
        "#pip install openai\n",
        "#pip install python-dotenv\n",
        "#pip install langchain-community\n",
        "#pip install langchain-openai\n",
        "#pip install chromadb"
      ]
    },
    {
      "cell_type": "markdown",
      "id": "ba966e8f-924d-42d3-a176-7b5031f9024d",
      "metadata": {},
      "source": [
        "## 1. Setup"
      ]
    },
    {
      "cell_type": "code",
      "execution_count": 5,
      "id": "56891401-9025-45aa-b966-7b262825e6c1",
      "metadata": {
        "trusted": true
      },
      "outputs": [
        {
          "name": "stdout",
          "output_type": "stream",
          "text": [
            "OpenAI key loaded: Yes\n",
            "LangSmith key loaded: Yes\n"
          ]
        }
      ],
      "source": [
        "import os\n",
        "from dotenv import load_dotenv\n",
        "from langchain_openai import ChatOpenAI, OpenAIEmbeddings\n",
        "\n",
        "# Load variables from .env file\n",
        "load_dotenv(dotenv_path=\"news.env.txt\", override=True)\n",
        "\n",
        "# Access the variables\n",
        "openai_key = os.getenv(\"OPENAI_API_KEY\")\n",
        "langsmith_key = os.getenv(\"LANGSMITH_API_KEY\")\n",
        "\n",
        "# Pass the API key explicitly to the LangChain classes\n",
        "llm = ChatOpenAI(temperature=0, openai_api_key=openai_key)\n",
        "embeddings = OpenAIEmbeddings(openai_api_key=openai_key)\n",
        "\n",
        "print(f\"OpenAI key loaded: {'Yes' if openai_key else 'No'}\")\n",
        "print(f\"LangSmith key loaded: {'Yes' if langsmith_key else 'No'}\")"
      ]
    },
    {
      "cell_type": "code",
      "execution_count": 6,
      "id": "ed4236f4",
      "metadata": {},
      "outputs": [
        {
          "name": "stderr",
          "output_type": "stream",
          "text": [
            "USER_AGENT environment variable not set, consider setting it to identify your requests.\n"
          ]
        }
      ],
      "source": [
        "from langchain_community.document_loaders import WebBaseLoader\n",
        "from langchain_community.vectorstores import Chroma\n",
        "from langchain_openai import OpenAIEmbeddings\n",
        "from langchain_text_splitters import RecursiveCharacterTextSplitter\n",
        "\n",
        "from langchain.prompts import PromptTemplate\n",
        "from langchain_openai import ChatOpenAI\n",
        "from langchain.chains import LLMChain\n",
        "from langchain_core.runnables import RunnablePassthrough\n",
        "from langchain_core.output_parsers import StrOutputParser\n",
        "\n",
        "from rich import print\n",
        "from rich.console import Console\n",
        "\n",
        "llm = ChatOpenAI(temperature=0.0)\n",
        "console = Console(width=100)"
      ]
    },
    {
      "cell_type": "markdown",
      "id": "b4682efa-d56f-48f0-a836-7c841ea21118",
      "metadata": {},
      "source": [
        "## 2A. Load Dataset (AG News)"
      ]
    },
    {
      "cell_type": "code",
      "execution_count": 14,
      "id": "1f8152fb-c2af-4223-bc71-1fb2237a4c62",
      "metadata": {
        "trusted": true
      },
      "outputs": [
        {
          "name": "stderr",
          "output_type": "stream",
          "text": [
            "/Users/shivani/opt/anaconda3/envs/news-project/lib/python3.10/site-packages/tqdm/auto.py:21: TqdmWarning: IProgress not found. Please update jupyter and ipywidgets. See https://ipywidgets.readthedocs.io/en/stable/user_install.html\n",
            "  from .autonotebook import tqdm as notebook_tqdm\n"
          ]
        },
        {
          "data": {
            "text/html": [
              "<pre style=\"white-space:pre;overflow-x:auto;line-height:normal;font-family:Menlo,'DejaVu Sans Mono',consolas,'Courier New',monospace\"><span style=\"color: #800080; text-decoration-color: #800080; font-weight: bold\">Document</span><span style=\"font-weight: bold\">(</span>\n",
              "    <span style=\"color: #808000; text-decoration-color: #808000\">metadata</span>=<span style=\"font-weight: bold\">{</span><span style=\"color: #008000; text-decoration-color: #008000\">'label'</span>: <span style=\"color: #008080; text-decoration-color: #008080; font-weight: bold\">2</span><span style=\"font-weight: bold\">}</span>,\n",
              "    <span style=\"color: #808000; text-decoration-color: #808000\">page_content</span>=<span style=\"color: #008000; text-decoration-color: #008000\">\"Wall St. Bears Claw Back Into the Black (Reuters) Reuters - Short-sellers, Wall Street's </span>\n",
              "<span style=\"color: #008000; text-decoration-color: #008000\">dwindling\\\\band of ultra-cynics, are seeing green again.\"</span>\n",
              "<span style=\"font-weight: bold\">)</span>\n",
              "</pre>\n"
            ],
            "text/plain": [
              "\u001b[1;35mDocument\u001b[0m\u001b[1m(\u001b[0m\n",
              "    \u001b[33mmetadata\u001b[0m=\u001b[1m{\u001b[0m\u001b[32m'label'\u001b[0m: \u001b[1;36m2\u001b[0m\u001b[1m}\u001b[0m,\n",
              "    \u001b[33mpage_content\u001b[0m=\u001b[32m\"Wall\u001b[0m\u001b[32m St. Bears Claw Back Into the Black \u001b[0m\u001b[32m(\u001b[0m\u001b[32mReuters\u001b[0m\u001b[32m)\u001b[0m\u001b[32m Reuters - Short-sellers, Wall Street's \u001b[0m\n",
              "\u001b[32mdwindling\\\\band of ultra-cynics, are seeing green again.\"\u001b[0m\n",
              "\u001b[1m)\u001b[0m\n"
            ]
          },
          "metadata": {},
          "output_type": "display_data"
        }
      ],
      "source": [
        "from datasets import load_dataset\n",
        "from langchain.docstore.document import Document\n",
        "\n",
        "# Load the AG News dataset. Use the 'train' split for knowledge base.\n",
        "ag_news_dataset = load_dataset(\"ag_news\", split=\"train\")\n",
        "\n",
        "# Convert the dataset entries into LangChain Document objects\n",
        "# Each entry has a 'text' and 'label' column.\n",
        "documents = []\n",
        "for entry in ag_news_dataset:\n",
        "    doc = Document(\n",
        "        page_content=entry['text'],\n",
        "        metadata={\"label\": entry['label']}\n",
        "    )\n",
        "    documents.append(doc)\n",
        "\n",
        "# Print the first document to verify the format\n",
        "print(documents[0])\n",
        "\n",
        "# Your existing code to split the documents and create the vectorstore can now use this 'documents' list\n",
        "text_splitter = RecursiveCharacterTextSplitter(chunk_size=1000, chunk_overlap=200)\n",
        "splits = text_splitter.split_documents(documents)\n",
        "\n",
        "# embed through Chroma\n",
        "embedding = OpenAIEmbeddings()\n",
        "vectorstore = Chroma.from_documents(documents=splits, embedding=embedding)"
      ]
    },
    {
      "cell_type": "markdown",
      "id": "de4a88d3",
      "metadata": {},
      "source": [
        "## 2B. Load Dataset (BBC News)"
      ]
    },
    {
      "cell_type": "code",
      "execution_count": 15,
      "id": "008c2322",
      "metadata": {},
      "outputs": [],
      "source": [
        "from datasets import load_dataset\n",
        "from langchain.schema import Document\n",
        "from datetime import datetime\n",
        "\n",
        "# Load latest BBC dataset from Hugging Face\n",
        "bbc = load_dataset(\"RealTimeData/bbc_latest\")\n",
        "\n",
        "bbc_docs = []\n",
        "for item in bbc[\"train\"]:\n",
        "    text = item.get(\"text\", \"\")\n",
        "    date_str = item.get(\"date\", \"\")\n",
        "    \n",
        "    # Try to parse the date if available\n",
        "    try:\n",
        "        published = datetime.fromisoformat(date_str)\n",
        "    except Exception:\n",
        "        published = datetime.now()  # fallback to \"now\"\n",
        "    \n",
        "    metadata = {\n",
        "        \"source\": \"BBC\",\n",
        "        \"title\": item.get(\"title\", \"\"),\n",
        "        \"published\": str(published),\n",
        "        \"recency_score\": 1.0  # give BBC docs a boost\n",
        "    }\n",
        "    bbc_docs.append(Document(page_content=text, metadata=metadata))"
      ]
    },
    {
      "cell_type": "code",
      "execution_count": 16,
      "id": "e472b961",
      "metadata": {},
      "outputs": [],
      "source": [
        "# Append to AG News Chroma\n",
        "vectorstore.add_documents(bbc_docs)\n",
        "base_retriever = vectorstore.as_retriever(search_kwargs={\"k\": 5})\n",
        "\n",
        "def custom_retriever(query):\n",
        "    results = base_retriever.get_relevant_documents(query)\n",
        "    rescored = []\n",
        "    for doc in results:\n",
        "        boost = doc.metadata.get(\"recency_score\", 0)\n",
        "        rescored.append((doc, -boost))  # negative = better rank\n",
        "    rescored.sort(key=lambda x: x[1])\n",
        "    return [doc for doc, _ in rescored]"
      ]
    },
    {
      "cell_type": "markdown",
      "id": "863c636e-c816-47c4-ac03-24b1c51bf46a",
      "metadata": {},
      "source": [
        "# Chaining Logic"
      ]
    },
    {
      "cell_type": "markdown",
      "id": "a1601df5-53f9-4320-af96-207e8beb47e6",
      "metadata": {},
      "source": [
        "## Step 1: Query Understanding and Rewriting"
      ]
    },
    {
      "cell_type": "code",
      "execution_count": 7,
      "id": "c79bb2a6-d138-4fbb-af69-ea775414a27f",
      "metadata": {
        "trusted": true
      },
      "outputs": [
        {
          "name": "stderr",
          "output_type": "stream",
          "text": [
            "/var/folders/7j/pfq_1hn94mq_0kn9gpm_dgj40000gp/T/ipykernel_27408/239430175.py:9: LangChainDeprecationWarning: The class `LLMChain` was deprecated in LangChain 0.1.17 and will be removed in 1.0. Use :meth:`~RunnableSequence, e.g., `prompt | llm`` instead.\n",
            "  query_chain = LLMChain(llm=llm, prompt=query_prompt, output_parser=StrOutputParser())\n"
          ]
        }
      ],
      "source": [
        "query_prompt = PromptTemplate(\n",
        "    template=\"\"\"You are an expert at rephrasing user questions into concise, search-friendly queries.\n",
        "    Given the user's question, generate 3 search queries that will help find the answer.\n",
        "    The queries should be in a numbered list.\n",
        "    User Question: {user_input}\n",
        "    Queries:\"\"\",\n",
        "    input_variables=[\"user_input\"],\n",
        ")\n",
        "query_chain = LLMChain(llm=llm, prompt=query_prompt, output_parser=StrOutputParser())"
      ]
    },
    {
      "cell_type": "markdown",
      "id": "43aaa27f-ad6e-424a-bdc7-5c2483c10833",
      "metadata": {},
      "source": [
        "## Step 2: Draft Answer"
      ]
    },
    {
      "cell_type": "code",
      "execution_count": 8,
      "id": "e8b504f1-2908-454e-81b6-cf8a227818f8",
      "metadata": {
        "trusted": true
      },
      "outputs": [],
      "source": [
        "draft_prompt = PromptTemplate(\n",
        "    template=\"\"\"You are a professional assistant. Using only the following context, write a precise and well-structured answer to the user's question.\n",
        "    Do not add any information that is not explicitly found in the context.\n",
        "    Context: {retrieved_docs}\n",
        "    User Question: {user_input}\n",
        "    Draft Answer:\"\"\",\n",
        "    input_variables=[\"retrieved_docs\", \"user_input\"],\n",
        ")\n",
        "draft_chain = LLMChain(llm=llm, prompt=draft_prompt, output_parser=StrOutputParser())"
      ]
    },
    {
      "cell_type": "markdown",
      "id": "ddee6573-119c-4c06-8bfb-edcdf638096f",
      "metadata": {},
      "source": [
        "## Step 3: Fact-Check"
      ]
    },
    {
      "cell_type": "code",
      "execution_count": 9,
      "id": "e10a0a64-6d98-4ccc-9860-fe48bde3773a",
      "metadata": {
        "trusted": true
      },
      "outputs": [],
      "source": [
        "factcheck_prompt = PromptTemplate(\n",
        "    input_variables=[\"retrieved_docs\", \"draft_answer\"],\n",
        "    template=\"\"\"You are a fact-checking assistant.\n",
        "Review the draft answer and compare it to the context.\n",
        "\n",
        "Tasks:\n",
        "1. Identify any claims NOT supported by the context.\n",
        "2. Flag vague or biased language.\n",
        "3. Suggest corrections.\n",
        "\n",
        "Context:\n",
        "{retrieved_docs}\n",
        "\n",
        "Draft Answer:\n",
        "{draft_answer}\n",
        "\n",
        "Fact-Check Report:\n",
        "\"\"\"\n",
        ")\n",
        "factcheck_chain = LLMChain(llm=llm, prompt=factcheck_prompt)"
      ]
    },
    {
      "cell_type": "markdown",
      "id": "cdd9540c",
      "metadata": {},
      "source": [
        "## Step 4: Citation Acquisition"
      ]
    },
    {
      "cell_type": "code",
      "execution_count": 10,
      "id": "945fd460",
      "metadata": {},
      "outputs": [],
      "source": [
        "# --- New citation-aware final prompt ---\n",
        "citation_prompt = PromptTemplate(\n",
        "    template=\"\"\"\n",
        "You are a professional assistant. \n",
        "Using only the retrieved documents, write a clear, precise answer to the user's question. \n",
        "\n",
        "Each statement you make MUST be supported by a citation. \n",
        "Cite sources inline in the form [Source: {doc_id}] where doc_id is provided in the context list. \n",
        "\n",
        "Context Documents (ID → snippet):\n",
        "{context_list}\n",
        "\n",
        "User Question: {user_input}\n",
        "\n",
        "Final Answer (with inline citations):\n",
        "\"\"\",\n",
        "    input_variables=[\"context_list\", \"user_input\"],\n",
        ")\n",
        "\n",
        "citation_chain = LLMChain(llm=llm, prompt=citation_prompt, output_parser=StrOutputParser())"
      ]
    },
    {
      "cell_type": "markdown",
      "id": "c6e4f5c9-953d-4581-a2e5-7be8095945ff",
      "metadata": {},
      "source": [
        "## Step 5: Final Answer"
      ]
    },
    {
      "cell_type": "code",
      "execution_count": 11,
      "id": "1d341587-0ec8-4875-b4fd-fba9ad8cef87",
      "metadata": {
        "trusted": true
      },
      "outputs": [],
      "source": [
        "\n",
        "final_prompt = PromptTemplate(\n",
        "    template=\"\"\"\n",
        "You are a careful assistant.\n",
        "\n",
        "Your job is to decide whether to keep the draft answer or reject it based on the fact-check notes.\n",
        "\n",
        "Rules:\n",
        "- If the fact-check notes confirm the draft answer is fully accurate, return the draft answer exactly as written (do not rephrase).\n",
        "- If the fact-check notes indicate any missing or unsupported information, respond with the draft answer exactly as written and then the fact-check notes but only those that indicate any missing or unsupported information.\n",
        "\n",
        "Draft Answer:\n",
        "{draft_answer}\n",
        "\n",
        "Fact-check Notes:\n",
        "{fact_report}\n",
        "\n",
        "Retrieved Docs (with Source IDs):\n",
        "{retrieved_docs}\n",
        "\n",
        "User Question: {user_input}\n",
        "\n",
        "Final Answer (with inline citations):\n",
        "\"\"\",\n",
        "    input_variables=[\"draft_answer\", \"fact_report\", \"retrieved_docs\", \"user_input\"]\n",
        ")\n",
        "final_chain = LLMChain(llm=llm, prompt=final_prompt, output_parser=StrOutputParser())"
      ]
    },
    {
      "cell_type": "markdown",
      "id": "188fc4f7-5211-46c8-b0de-9425399e33f4",
      "metadata": {},
      "source": [
        "## Finished Pipeline Function"
      ]
    },
    {
      "cell_type": "code",
      "execution_count": 12,
      "id": "2be134ee-02da-4059-a8eb-fc561512371f",
      "metadata": {
        "trusted": true
      },
      "outputs": [],
      "source": [
        "def get_final_answer(user_input: str):\n",
        "    # Step 1: Query Understanding\n",
        "    queries = query_chain.invoke({\"user_input\": user_input})\n",
        "    search_query = queries['text'].strip().split(\"\\n\")[0]  # Access the string value under the 'text' key\n",
        "\n",
        "    # Step 2: Document Retrieval\n",
        "    docs = base_retriever.invoke(search_query)\n",
        "    retrieved_texts = \"\\n\".join([doc.page_content for doc in docs])\n",
        "\n",
        "    # Attach numbered source IDs for citations\n",
        "    sources = {}\n",
        "    context = []\n",
        "    for i, doc in enumerate(docs):\n",
        "        source_id = f\"Source-{i+1}\"\n",
        "        sources[source_id] = doc.metadata\n",
        "        snippet = doc.page_content[:200].replace(\"\\n\", \" \")\n",
        "        context.append(f\"{source_id}: {snippet}...\")\n",
        "\n",
        "    context_text = \"\\n\".join(context)\n",
        "\n",
        "    # Step 3: Answer Drafting\n",
        "    draft = draft_chain.invoke({\"retrieved_docs\": retrieved_texts, \"user_input\": user_input})\n",
        "\n",
        "    # Step 4: Fact-Check\n",
        "    fact_report = factcheck_chain.invoke({\"retrieved_docs\": retrieved_texts, \"draft_answer\": draft})\n",
        "\n",
        "    # Step 5: Final Answer\n",
        "    final = final_chain.invoke({\"draft_answer\": draft, \"fact_report\": fact_report,\"retrieved_docs\": context_text,\"user_input\":user_input})\n",
        "    return final[\"text\"]"
      ]
    },
    {
      "cell_type": "markdown",
      "id": "a3d84424",
      "metadata": {},
      "source": [
        "## Evaluation"
      ]
    },
    {
      "cell_type": "code",
      "execution_count": null,
      "id": "7369b92e",
      "metadata": {},
      "outputs": [
        {
          "data": {
            "text/html": [
              "<div>\n",
              "<style scoped>\n",
              "    .dataframe tbody tr th:only-of-type {\n",
              "        vertical-align: middle;\n",
              "    }\n",
              "\n",
              "    .dataframe tbody tr th {\n",
              "        vertical-align: top;\n",
              "    }\n",
              "\n",
              "    .dataframe thead th {\n",
              "        text-align: right;\n",
              "    }\n",
              "</style>\n",
              "<table border=\"1\" class=\"dataframe\">\n",
              "  <thead>\n",
              "    <tr style=\"text-align: right;\">\n",
              "      <th></th>\n",
              "      <th>question</th>\n",
              "      <th>pipeline_answer</th>\n",
              "      <th>baseline_answer</th>\n",
              "      <th>has_citation</th>\n",
              "      <th>correct?</th>\n",
              "    </tr>\n",
              "  </thead>\n",
              "  <tbody>\n",
              "    <tr>\n",
              "      <th>0</th>\n",
              "      <td>Who is the CEO of Microsoft?</td>\n",
              "      <td>The CEO of Microsoft is Steve Ballmer.\\n\\nFact-check Notes:\\n1. The draft answer correctly identifies Steve Ballmer as the CEO of Microsoft based on the context provided.</td>\n",
              "      <td>As of September 2021, the CEO of Microsoft is Satya Nadella.</td>\n",
              "      <td>False</td>\n",
              "      <td>None</td>\n",
              "    </tr>\n",
              "    <tr>\n",
              "      <th>1</th>\n",
              "      <td>What are the latest trends in renewable energy?</td>\n",
              "      <td>The latest trends in renewable energy include an increasing focus on alternative sources such as wind, solar, and sea energy. Rising fuel prices and concerns about global warming have accelerated the shift towards renewable energy sources. The wind industry is making efforts to overcome public resistance to wind turbines, with the European wind energy industry aiming to eventually supply all of the continent's electricity. Additionally, provinces like Ontario are unveiling new projects to create electricity from renewable resources. (Source-1, Source-2, Source-3, Source-4, Source-5)\\n\\nFact-check Notes:\\n1. The draft answer accurately reflects the context provided.</td>\n",
              "      <td>1. Offshore wind power: Offshore wind farms are becoming increasingly popular due to their higher wind speeds and larger potential for energy generation compared to onshore wind farms.\\n\\n2. Solar energy storage: Advances in battery technology are making it easier to store excess solar energy for use during times when the sun is not shining, increasing the reliability and efficiency of solar power systems.\\n\\n3. Floating solar panels: Installing solar panels on bodies of water, such as lakes or reservoirs, is a growing trend that maximizes land use and reduces water evaporation while generating clean energy.\\n\\n4. Green hydrogen production: Green hydrogen, produced using renewable energy sources, is gaining traction as a clean alternative to traditional fossil fuels for transportation and industrial applications.\\n\\n5. Community solar projects: Community solar projects allow multiple households or businesses to share the benefits of a solar energy system, making renewable energy more accessible and affordable for a wider range of people.\\n\\n6. Microgrids: Microgrids are small-scale, localized energy systems that can operate independently or in conjunction with the main power grid, providing increased resilience and reliability during power outages or emergencies.\\n\\n7. Energy efficiency retrofits: Retrofitting existing buildings and infrastructure with energy-efficient technologies and renewable energy systems is a growing trend to reduce energy consumption and carbon emissions in the built environment.</td>\n",
              "      <td>True</td>\n",
              "      <td>None</td>\n",
              "    </tr>\n",
              "    <tr>\n",
              "      <th>2</th>\n",
              "      <td>What happened in the 2008 financial crisis?</td>\n",
              "      <td>The 2008 financial crisis was triggered by a combination of factors, including rising interest rates, a reliance on credit, risky investments by UK banks, a run on Ukraine's banks due to political worries, and the bursting of the housing bubble. Additionally, the long-term economic health of the United States was threatened by a significant amount of government debts and liabilities coming due as baby boomers began to retire. \\n\\nFact-check Notes:\\n1. The draft answer correctly mentions the factors that contributed to the 2008 financial crisis, such as rising interest rates, a reliance on credit, risky investments by UK banks, a run on Ukraine's banks, and the bursting of the housing bubble.</td>\n",
              "      <td>The 2008 financial crisis, also known as the global financial crisis, was a severe worldwide economic crisis that began in 2007 and continued into 2008. It was triggered by the collapse of the housing market in the United States, which led to a domino effect that spread throughout the global financial system.\\n\\nSome key events and factors that contributed to the crisis include:\\n\\n1. Subprime mortgage crisis: Banks and financial institutions in the U.S. had been issuing risky subprime mortgages to borrowers who were unable to repay them. When the housing bubble burst in 2007, many of these borrowers defaulted on their loans, leading to a wave of foreclosures and a sharp decline in housing prices.\\n\\n2. Financial institutions collapse: The crisis led to the collapse of several major financial institutions, including Lehman Brothers, Bear Stearns, and AIG. This caused panic in the financial markets and led to a credit crunch, as banks became reluctant to lend to each other.\\n\\n3. Stock market crash: The crisis also triggered a sharp decline in stock prices, with major stock indexes around the world plummeting. This led to a loss of trillions of dollars in market value and wiped out many investors' savings.\\n\\n4. Government intervention: In response to the crisis, governments around the world implemented various measures to stabilize the financial system, including bailouts of banks and other financial institutions, stimulus packages to boost economic growth, and regulatory reforms to prevent future crises.\\n\\nThe 2008 financial crisis had far-reaching consequences, including a global recession, high levels of unemployment, and a loss of confidence in the financial system. It also exposed weaknesses in the regulatory framework and led to calls for reform to prevent similar crises in the future.</td>\n",
              "      <td>False</td>\n",
              "      <td>None</td>\n",
              "    </tr>\n",
              "    <tr>\n",
              "      <th>3</th>\n",
              "      <td>Who won the 2016 U.S. presidential election?</td>\n",
              "      <td>George W. Bush won the 2004 U.S. presidential election and was re-elected as the 43rd President of the United States. (Source-3)\\n\\nFact-check Notes:\\n1. The draft answer incorrectly states that George W. Bush won the 2016 U.S. presidential election. The context provided clearly states that he won the 2004 election, not 2016.</td>\n",
              "      <td>Donald Trump won the 2016 U.S. presidential election.</td>\n",
              "      <td>True</td>\n",
              "      <td>None</td>\n",
              "    </tr>\n",
              "    <tr>\n",
              "      <th>4</th>\n",
              "      <td>What is quantum computing?</td>\n",
              "      <td>Quantum computing is a cutting-edge technology that involves the use of quantum bits, or qubits, to perform computations. Recently, scientists at the University of Bonn in Germany have made significant progress in this field by building the fundamental memory component of a quantum computer, known as a \"register\", using caesium atoms trapped inside a laser beam. This development could pave the way for a more reliable method of building a working quantum computer compared to other techniques. Additionally, quantum computing has the potential to revolutionize data security, with advancements such as quantum cryptography systems that offer increased speed and range, making them commercially viable for applications in various industries. (Source-1, Source-2, Source-4)\\n\\nFact-check Notes:\\n1. The draft answer correctly mentions the development of the fundamental memory component of a quantum computer using caesium atoms by scientists at the University of Bonn in Germany. (Source-1, Source-2)\\n2. The draft answer correctly highlights the potential of quantum computing to revolutionize data security with advancements like quantum cryptography systems. (Source-4)</td>\n",
              "      <td>Quantum computing is a type of computing that uses quantum-mechanical phenomena, such as superposition and entanglement, to perform operations on data. Unlike classical computers, which use bits to represent information as either 0 or 1, quantum computers use quantum bits, or qubits, which can represent both 0 and 1 simultaneously due to superposition. This allows quantum computers to perform certain calculations much faster than classical computers, making them potentially powerful tools for solving complex problems in fields such as cryptography, optimization, and material science.</td>\n",
              "      <td>True</td>\n",
              "      <td>None</td>\n",
              "    </tr>\n",
              "  </tbody>\n",
              "</table>\n",
              "</div>"
            ],
            "text/plain": [
              "                                          question                                                                                                                                                                                                                                                                                                                                                                                                                                                                                                                                                                                                                                                                                                                                                                                                                                                                                                                                                                                                                                                                                                                                                                                                         pipeline_answer  \\\n",
              "0                     Who is the CEO of Microsoft?                                                                                                                                                                                                                                                                                                                                                                                                                                                                                                                                                                                                                                                                                                                                                                                                                                                                                                                                                                                                                                              The CEO of Microsoft is Steve Ballmer.\\n\\nFact-check Notes:\\n1. The draft answer correctly identifies Steve Ballmer as the CEO of Microsoft based on the context provided.   \n",
              "1  What are the latest trends in renewable energy?                                                                                                                                                                                                                                                                                                                                                                                                                                                                                                                       The latest trends in renewable energy include an increasing focus on alternative sources such as wind, solar, and sea energy. Rising fuel prices and concerns about global warming have accelerated the shift towards renewable energy sources. The wind industry is making efforts to overcome public resistance to wind turbines, with the European wind energy industry aiming to eventually supply all of the continent's electricity. Additionally, provinces like Ontario are unveiling new projects to create electricity from renewable resources. (Source-1, Source-2, Source-3, Source-4, Source-5)\\n\\nFact-check Notes:\\n1. The draft answer accurately reflects the context provided.   \n",
              "2      What happened in the 2008 financial crisis?                                                                                                                                                                                                                                                                                                                                                                                                                                                                                            The 2008 financial crisis was triggered by a combination of factors, including rising interest rates, a reliance on credit, risky investments by UK banks, a run on Ukraine's banks due to political worries, and the bursting of the housing bubble. Additionally, the long-term economic health of the United States was threatened by a significant amount of government debts and liabilities coming due as baby boomers began to retire. \\n\\nFact-check Notes:\\n1. The draft answer correctly mentions the factors that contributed to the 2008 financial crisis, such as rising interest rates, a reliance on credit, risky investments by UK banks, a run on Ukraine's banks, and the bursting of the housing bubble.   \n",
              "3     Who won the 2016 U.S. presidential election?                                                                                                                                                                                                                                                                                                                                                                                                                                                                                                                                                                                                                                                                                                                                                                                                                                                                                 George W. Bush won the 2004 U.S. presidential election and was re-elected as the 43rd President of the United States. (Source-3)\\n\\nFact-check Notes:\\n1. The draft answer incorrectly states that George W. Bush won the 2016 U.S. presidential election. The context provided clearly states that he won the 2004 election, not 2016.   \n",
              "4                       What is quantum computing?  Quantum computing is a cutting-edge technology that involves the use of quantum bits, or qubits, to perform computations. Recently, scientists at the University of Bonn in Germany have made significant progress in this field by building the fundamental memory component of a quantum computer, known as a \"register\", using caesium atoms trapped inside a laser beam. This development could pave the way for a more reliable method of building a working quantum computer compared to other techniques. Additionally, quantum computing has the potential to revolutionize data security, with advancements such as quantum cryptography systems that offer increased speed and range, making them commercially viable for applications in various industries. (Source-1, Source-2, Source-4)\\n\\nFact-check Notes:\\n1. The draft answer correctly mentions the development of the fundamental memory component of a quantum computer using caesium atoms by scientists at the University of Bonn in Germany. (Source-1, Source-2)\\n2. The draft answer correctly highlights the potential of quantum computing to revolutionize data security with advancements like quantum cryptography systems. (Source-4)   \n",
              "\n",
              "                                                                                                                                                                                                                                                                                                                                                                                                                                                                                                                                                                                                                                                                                                                                                                                                                                                                                                                                                                                                                                                                                                                                                                                                                                                                                                                                                                                                                                                                                                                                                                                                                                                                                                                                                                                                                                                                                   baseline_answer  \\\n",
              "0                                                                                                                                                                                                                                                                                                                                                                                                                                                                                                                                                                                                                                                                                                                                                                                                                                                                                                                                                                                                                                                                                                                                                                                                                                                                                                                                                                                                                                                                                                                                                                                                                                                                                                                                                                                                                                     As of September 2021, the CEO of Microsoft is Satya Nadella.   \n",
              "1                                                                                                                                                                                                                                                                                                         1. Offshore wind power: Offshore wind farms are becoming increasingly popular due to their higher wind speeds and larger potential for energy generation compared to onshore wind farms.\\n\\n2. Solar energy storage: Advances in battery technology are making it easier to store excess solar energy for use during times when the sun is not shining, increasing the reliability and efficiency of solar power systems.\\n\\n3. Floating solar panels: Installing solar panels on bodies of water, such as lakes or reservoirs, is a growing trend that maximizes land use and reduces water evaporation while generating clean energy.\\n\\n4. Green hydrogen production: Green hydrogen, produced using renewable energy sources, is gaining traction as a clean alternative to traditional fossil fuels for transportation and industrial applications.\\n\\n5. Community solar projects: Community solar projects allow multiple households or businesses to share the benefits of a solar energy system, making renewable energy more accessible and affordable for a wider range of people.\\n\\n6. Microgrids: Microgrids are small-scale, localized energy systems that can operate independently or in conjunction with the main power grid, providing increased resilience and reliability during power outages or emergencies.\\n\\n7. Energy efficiency retrofits: Retrofitting existing buildings and infrastructure with energy-efficient technologies and renewable energy systems is a growing trend to reduce energy consumption and carbon emissions in the built environment.   \n",
              "2  The 2008 financial crisis, also known as the global financial crisis, was a severe worldwide economic crisis that began in 2007 and continued into 2008. It was triggered by the collapse of the housing market in the United States, which led to a domino effect that spread throughout the global financial system.\\n\\nSome key events and factors that contributed to the crisis include:\\n\\n1. Subprime mortgage crisis: Banks and financial institutions in the U.S. had been issuing risky subprime mortgages to borrowers who were unable to repay them. When the housing bubble burst in 2007, many of these borrowers defaulted on their loans, leading to a wave of foreclosures and a sharp decline in housing prices.\\n\\n2. Financial institutions collapse: The crisis led to the collapse of several major financial institutions, including Lehman Brothers, Bear Stearns, and AIG. This caused panic in the financial markets and led to a credit crunch, as banks became reluctant to lend to each other.\\n\\n3. Stock market crash: The crisis also triggered a sharp decline in stock prices, with major stock indexes around the world plummeting. This led to a loss of trillions of dollars in market value and wiped out many investors' savings.\\n\\n4. Government intervention: In response to the crisis, governments around the world implemented various measures to stabilize the financial system, including bailouts of banks and other financial institutions, stimulus packages to boost economic growth, and regulatory reforms to prevent future crises.\\n\\nThe 2008 financial crisis had far-reaching consequences, including a global recession, high levels of unemployment, and a loss of confidence in the financial system. It also exposed weaknesses in the regulatory framework and led to calls for reform to prevent similar crises in the future.   \n",
              "3                                                                                                                                                                                                                                                                                                                                                                                                                                                                                                                                                                                                                                                                                                                                                                                                                                                                                                                                                                                                                                                                                                                                                                                                                                                                                                                                                                                                                                                                                                                                                                                                                                                                                                                                                                                                                                            Donald Trump won the 2016 U.S. presidential election.   \n",
              "4                                                                                                                                                                                                                                                                                                                                                                                                                                                                                                                                                                                                                                                                                                                                                                                                                                                                                                                                                                                                                                                                                                                                                                                                                                                                                   Quantum computing is a type of computing that uses quantum-mechanical phenomena, such as superposition and entanglement, to perform operations on data. Unlike classical computers, which use bits to represent information as either 0 or 1, quantum computers use quantum bits, or qubits, which can represent both 0 and 1 simultaneously due to superposition. This allows quantum computers to perform certain calculations much faster than classical computers, making them potentially powerful tools for solving complex problems in fields such as cryptography, optimization, and material science.   \n",
              "\n",
              "   has_citation correct?  \n",
              "0         False     None  \n",
              "1          True     None  \n",
              "2         False     None  \n",
              "3          True     None  \n",
              "4          True     None  "
            ]
          },
          "execution_count": 18,
          "metadata": {},
          "output_type": "execute_result"
        }
      ],
      "source": [
        "import pandas as pd\n",
        "\n",
        "# Make DataFrame display easier to read\n",
        "pd.set_option(\"display.width\", 1500)\n",
        "pd.set_option(\"display.max_colwidth\", None)\n",
        "\n",
        "sample_questions = [\n",
        "    \"Who is the CEO of Microsoft?\",\n",
        "    \"What are the latest trends in renewable energy?\",\n",
        "    \"What happened in the 2008 financial crisis?\",\n",
        "    \"Who won the 2016 U.S. presidential election?\",\n",
        "    \"What is quantum computing?\"\n",
        "]\n",
        "\n",
        "results = []\n",
        "\n",
        "for q in sample_questions:\n",
        "    pipeline_ans = get_final_answer(q)\n",
        "    baseline_ans = llm.invoke(q).content  # single-shot baseline\n",
        "    \n",
        "    results.append({\n",
        "        \"question\": q,\n",
        "        \"pipeline_answer\": pipeline_ans,\n",
        "        \"baseline_answer\": baseline_ans,\n",
        "        \"has_citation\": \"(Source-\" in pipeline_ans\n",
        "    })\n",
        "\n",
        "df = pd.DataFrame(results)\n",
        "df"
      ]
    },
    {
      "cell_type": "code",
      "execution_count": null,
      "id": "183c774e",
      "metadata": {},
      "outputs": [
        {
          "data": {
            "text/html": [
              "<div>\n",
              "<style scoped>\n",
              "    .dataframe tbody tr th:only-of-type {\n",
              "        vertical-align: middle;\n",
              "    }\n",
              "\n",
              "    .dataframe tbody tr th {\n",
              "        vertical-align: top;\n",
              "    }\n",
              "\n",
              "    .dataframe thead th {\n",
              "        text-align: right;\n",
              "    }\n",
              "</style>\n",
              "<table border=\"1\" class=\"dataframe\">\n",
              "  <thead>\n",
              "    <tr style=\"text-align: right;\">\n",
              "      <th></th>\n",
              "      <th>question</th>\n",
              "      <th>pipeline_answer</th>\n",
              "      <th>baseline_answer</th>\n",
              "      <th>evaluation</th>\n",
              "    </tr>\n",
              "  </thead>\n",
              "  <tbody>\n",
              "    <tr>\n",
              "      <th>0</th>\n",
              "      <td>Who is the CEO of Microsoft?</td>\n",
              "      <td>The CEO of Microsoft is Steve Ballmer.\\n\\nFact-check Notes:\\n1. The draft answer correctly identifies Steve Ballmer as the CEO of Microsoft based on the context provided.</td>\n",
              "      <td>As of September 2021, the CEO of Microsoft is Satya Nadella.</td>\n",
              "      <td>INCORRECT</td>\n",
              "    </tr>\n",
              "    <tr>\n",
              "      <th>1</th>\n",
              "      <td>What are the latest trends in renewable energy?</td>\n",
              "      <td>The latest trends in renewable energy include an increasing share of power coming from renewable sources such as wind, solar, and potentially the energy of the sea. Rising fuel prices, concerns about global warming, and the environmental merits of renewable energy are driving the shift towards these alternative energy sources. The wind energy industry in Europe is thriving, with the potential to eventually supply all of the continent's electricity, although public resistance to eyesore turbines remains a challenge. Additionally, provinces like Ontario are launching new projects to create electricity from renewable resources.\\n\\nFact-check Notes:\\n- No corrections are needed for the draft answer.</td>\n",
              "      <td>1. Offshore wind power: Offshore wind farms are becoming increasingly popular due to their higher wind speeds and larger potential for energy generation compared to onshore wind farms.\\n\\n2. Solar energy storage: Advances in battery technology are making it easier to store excess solar energy for use during times when the sun is not shining, increasing the reliability and efficiency of solar power systems.\\n\\n3. Green hydrogen production: Green hydrogen, produced using renewable energy sources, is gaining traction as a clean alternative to traditional fossil fuels for use in transportation, industry, and heating.\\n\\n4. Floating solar panels: Installing solar panels on bodies of water, such as lakes and reservoirs, is a growing trend that maximizes land use efficiency and reduces water evaporation.\\n\\n5. Community solar projects: Community solar projects allow multiple households or businesses to share the benefits of a single solar installation, making renewable energy more accessible and affordable for a wider range of people.\\n\\n6. Microgrids: Microgrids are small-scale, localized energy systems that can operate independently or in conjunction with the main power grid, providing increased resilience and reliability during power outages.\\n\\n7. Electrification of transportation: The shift towards electric vehicles is driving the demand for renewable energy sources to power charging infrastructure, reducing greenhouse gas emissions from the transportation sector.</td>\n",
              "      <td>INCORRECT</td>\n",
              "    </tr>\n",
              "    <tr>\n",
              "      <th>2</th>\n",
              "      <td>What happened in the 2008 financial crisis?</td>\n",
              "      <td>The 2008 financial crisis was triggered by a combination of factors, including rising interest rates, a reliance on credit, and risky investments made by UK banks. The crisis was further exacerbated by the impending retirement of baby boomers in the United States, which highlighted the country's significant government debts and liabilities. Additionally, the burst of the housing bubble in 2008 was confirmed by the first year-on-year drop in mortgage lending in four years. \\n\\nFact-check Notes:\\n1. The draft answer correctly mentions the factors that contributed to the 2008 financial crisis, such as rising interest rates, a reliance on credit, risky investments by UK banks, and significant government debts and liabilities in the United States.</td>\n",
              "      <td>The 2008 financial crisis, also known as the global financial crisis, was a severe worldwide economic crisis that began in 2007 and continued into 2008. It was triggered by the collapse of the housing market in the United States, which led to a domino effect that spread throughout the global financial system.\\n\\nSome key events and factors that contributed to the crisis include:\\n\\n1. Subprime mortgage crisis: Banks and financial institutions in the U.S. had been issuing risky subprime mortgages to borrowers who were unable to repay them. When the housing bubble burst in 2007, many of these borrowers defaulted on their loans, leading to a wave of foreclosures and a sharp decline in housing prices.\\n\\n2. Financial institutions collapse: The crisis led to the collapse of several major financial institutions, including Lehman Brothers, Bear Stearns, and AIG. This caused panic in the financial markets and led to a credit crunch, as banks became reluctant to lend to each other.\\n\\n3. Stock market crash: The crisis also triggered a sharp decline in stock prices, with major stock indexes around the world plummeting. This led to a loss of trillions of dollars in market value and wiped out many investors' savings.\\n\\n4. Government intervention: In response to the crisis, governments around the world implemented various measures to stabilize the financial system, including bailouts of banks and other financial institutions, stimulus packages to boost economic growth, and regulatory reforms to prevent future crises.\\n\\nThe 2008 financial crisis had far-reaching consequences, including a global recession, high levels of unemployment, and a loss of confidence in the financial system. It also exposed weaknesses in the regulatory framework and led to calls for greater oversight of the financial industry.</td>\n",
              "      <td>CORRECT</td>\n",
              "    </tr>\n",
              "    <tr>\n",
              "      <th>3</th>\n",
              "      <td>Who won the 2016 U.S. presidential election?</td>\n",
              "      <td>George W. Bush won the 2004 U.S. presidential election and was re-elected as the 43rd President of the United States. (Source-3)\\n\\nFact-check Notes:\\n1. The draft answer incorrectly states that George W. Bush won the 2016 U.S. presidential election. The context provided clearly states that he won the 2004 election, not 2016.</td>\n",
              "      <td>Donald Trump won the 2016 U.S. presidential election.</td>\n",
              "      <td>INCORRECT</td>\n",
              "    </tr>\n",
              "    <tr>\n",
              "      <th>4</th>\n",
              "      <td>What is quantum computing?</td>\n",
              "      <td>Quantum computing is a cutting-edge technology that involves the use of quantum bits, or qubits, to perform computations. Recently, scientists at the University of Bonn in Germany have made significant progress in this field by building the fundamental memory component of a quantum computer, known as a \"register\", using caesium atoms trapped inside a laser beam. This development could pave the way for a more reliable method of building a working quantum computer compared to other techniques. Additionally, quantum computing has the potential to revolutionize data security through the development of super-secure quantum networks that can detect and alert administrators to any attempts at eavesdropping. (Source-1, Source-2, Source-5)</td>\n",
              "      <td>Quantum computing is a type of computing that uses quantum-mechanical phenomena, such as superposition and entanglement, to perform operations on data. Unlike classical computers, which use bits to represent information as either 0 or 1, quantum computers use quantum bits, or qubits, which can represent both 0 and 1 simultaneously due to superposition. This allows quantum computers to perform certain calculations much faster than classical computers, making them potentially powerful tools for solving complex problems in fields such as cryptography, optimization, and material science.</td>\n",
              "      <td>CORRECT</td>\n",
              "    </tr>\n",
              "  </tbody>\n",
              "</table>\n",
              "</div>"
            ],
            "text/plain": [
              "                                          question                                                                                                                                                                                                                                                                                                                                                                                                                                                                                                                                                                                                                                                                                                                                                                   pipeline_answer  \\\n",
              "0                     Who is the CEO of Microsoft?                                                                                                                                                                                                                                                                                                                                                                                                                                                                                                                                                                                                        The CEO of Microsoft is Steve Ballmer.\\n\\nFact-check Notes:\\n1. The draft answer correctly identifies Steve Ballmer as the CEO of Microsoft based on the context provided.   \n",
              "1  What are the latest trends in renewable energy?                                                  The latest trends in renewable energy include an increasing share of power coming from renewable sources such as wind, solar, and potentially the energy of the sea. Rising fuel prices, concerns about global warming, and the environmental merits of renewable energy are driving the shift towards these alternative energy sources. The wind energy industry in Europe is thriving, with the potential to eventually supply all of the continent's electricity, although public resistance to eyesore turbines remains a challenge. Additionally, provinces like Ontario are launching new projects to create electricity from renewable resources.\\n\\nFact-check Notes:\\n- No corrections are needed for the draft answer.   \n",
              "2      What happened in the 2008 financial crisis?  The 2008 financial crisis was triggered by a combination of factors, including rising interest rates, a reliance on credit, and risky investments made by UK banks. The crisis was further exacerbated by the impending retirement of baby boomers in the United States, which highlighted the country's significant government debts and liabilities. Additionally, the burst of the housing bubble in 2008 was confirmed by the first year-on-year drop in mortgage lending in four years. \\n\\nFact-check Notes:\\n1. The draft answer correctly mentions the factors that contributed to the 2008 financial crisis, such as rising interest rates, a reliance on credit, risky investments by UK banks, and significant government debts and liabilities in the United States.   \n",
              "3     Who won the 2016 U.S. presidential election?                                                                                                                                                                                                                                                                                                                                                                                                                                           George W. Bush won the 2004 U.S. presidential election and was re-elected as the 43rd President of the United States. (Source-3)\\n\\nFact-check Notes:\\n1. The draft answer incorrectly states that George W. Bush won the 2016 U.S. presidential election. The context provided clearly states that he won the 2004 election, not 2016.   \n",
              "4                       What is quantum computing?              Quantum computing is a cutting-edge technology that involves the use of quantum bits, or qubits, to perform computations. Recently, scientists at the University of Bonn in Germany have made significant progress in this field by building the fundamental memory component of a quantum computer, known as a \"register\", using caesium atoms trapped inside a laser beam. This development could pave the way for a more reliable method of building a working quantum computer compared to other techniques. Additionally, quantum computing has the potential to revolutionize data security through the development of super-secure quantum networks that can detect and alert administrators to any attempts at eavesdropping. (Source-1, Source-2, Source-5)   \n",
              "\n",
              "                                                                                                                                                                                                                                                                                                                                                                                                                                                                                                                                                                                                                                                                                                                                                                                                                                                                                                                                                                                                                                                                                                                                                                                                                                                                                                                                                                                                                                                                                                                                                                                                                                                                                                                                                                                                                                                                                baseline_answer  \\\n",
              "0                                                                                                                                                                                                                                                                                                                                                                                                                                                                                                                                                                                                                                                                                                                                                                                                                                                                                                                                                                                                                                                                                                                                                                                                                                                                                                                                                                                                                                                                                                                                                                                                                                                                                                                                                                                                                                  As of September 2021, the CEO of Microsoft is Satya Nadella.   \n",
              "1                                                                                                                                                                                                                                                                                                                                                1. Offshore wind power: Offshore wind farms are becoming increasingly popular due to their higher wind speeds and larger potential for energy generation compared to onshore wind farms.\\n\\n2. Solar energy storage: Advances in battery technology are making it easier to store excess solar energy for use during times when the sun is not shining, increasing the reliability and efficiency of solar power systems.\\n\\n3. Green hydrogen production: Green hydrogen, produced using renewable energy sources, is gaining traction as a clean alternative to traditional fossil fuels for use in transportation, industry, and heating.\\n\\n4. Floating solar panels: Installing solar panels on bodies of water, such as lakes and reservoirs, is a growing trend that maximizes land use efficiency and reduces water evaporation.\\n\\n5. Community solar projects: Community solar projects allow multiple households or businesses to share the benefits of a single solar installation, making renewable energy more accessible and affordable for a wider range of people.\\n\\n6. Microgrids: Microgrids are small-scale, localized energy systems that can operate independently or in conjunction with the main power grid, providing increased resilience and reliability during power outages.\\n\\n7. Electrification of transportation: The shift towards electric vehicles is driving the demand for renewable energy sources to power charging infrastructure, reducing greenhouse gas emissions from the transportation sector.   \n",
              "2  The 2008 financial crisis, also known as the global financial crisis, was a severe worldwide economic crisis that began in 2007 and continued into 2008. It was triggered by the collapse of the housing market in the United States, which led to a domino effect that spread throughout the global financial system.\\n\\nSome key events and factors that contributed to the crisis include:\\n\\n1. Subprime mortgage crisis: Banks and financial institutions in the U.S. had been issuing risky subprime mortgages to borrowers who were unable to repay them. When the housing bubble burst in 2007, many of these borrowers defaulted on their loans, leading to a wave of foreclosures and a sharp decline in housing prices.\\n\\n2. Financial institutions collapse: The crisis led to the collapse of several major financial institutions, including Lehman Brothers, Bear Stearns, and AIG. This caused panic in the financial markets and led to a credit crunch, as banks became reluctant to lend to each other.\\n\\n3. Stock market crash: The crisis also triggered a sharp decline in stock prices, with major stock indexes around the world plummeting. This led to a loss of trillions of dollars in market value and wiped out many investors' savings.\\n\\n4. Government intervention: In response to the crisis, governments around the world implemented various measures to stabilize the financial system, including bailouts of banks and other financial institutions, stimulus packages to boost economic growth, and regulatory reforms to prevent future crises.\\n\\nThe 2008 financial crisis had far-reaching consequences, including a global recession, high levels of unemployment, and a loss of confidence in the financial system. It also exposed weaknesses in the regulatory framework and led to calls for greater oversight of the financial industry.   \n",
              "3                                                                                                                                                                                                                                                                                                                                                                                                                                                                                                                                                                                                                                                                                                                                                                                                                                                                                                                                                                                                                                                                                                                                                                                                                                                                                                                                                                                                                                                                                                                                                                                                                                                                                                                                                                                                                                         Donald Trump won the 2016 U.S. presidential election.   \n",
              "4                                                                                                                                                                                                                                                                                                                                                                                                                                                                                                                                                                                                                                                                                                                                                                                                                                                                                                                                                                                                                                                                                                                                                                                                                                                                                Quantum computing is a type of computing that uses quantum-mechanical phenomena, such as superposition and entanglement, to perform operations on data. Unlike classical computers, which use bits to represent information as either 0 or 1, quantum computers use quantum bits, or qubits, which can represent both 0 and 1 simultaneously due to superposition. This allows quantum computers to perform certain calculations much faster than classical computers, making them potentially powerful tools for solving complex problems in fields such as cryptography, optimization, and material science.   \n",
              "\n",
              "  evaluation  \n",
              "0  INCORRECT  \n",
              "1  INCORRECT  \n",
              "2    CORRECT  \n",
              "3  INCORRECT  \n",
              "4    CORRECT  "
            ]
          },
          "execution_count": 23,
          "metadata": {},
          "output_type": "execute_result"
        }
      ],
      "source": [
        "from langchain.prompts import PromptTemplate\n",
        "from langchain.chains import LLMChain\n",
        "\n",
        "# Define evaluator prompt\n",
        "\n",
        "eval_prompt = PromptTemplate(\n",
        "    template=\"\"\"\n",
        "You are an impartial evaluator. Compare the pipeline answer with the baseline answer. \n",
        "Use the retrieved documents as the ONLY ground truth. Do not trust tone or length.\n",
        "\n",
        "Rules:\n",
        "1. Mark an answer CORRECT only if:\n",
        "   - It matches the retrieved documents AND\n",
        "   - It includes inline citations (e.g. [Source-1]) that are consistent with the retrieved docs.\n",
        "2. If the pipeline answer and baseline disagree, mark INCORRECT unless the pipeline clearly \n",
        "   cites retrieved docs that directly support its claim.\n",
        "3. If the pipeline answer contains outdated or factually wrong info, mark INCORRECT.\n",
        "4. If the pipeline answer copies fact-check notes instead of giving a clean factual answer, \n",
        "   mark INCORRECT.\n",
        "5. If there is not enough verified evidence in the retrieved docs, mark as \"INSUFFICIENT\".\n",
        "\n",
        "Format:\n",
        "Return only one of the following:\n",
        "- CORRECT (factually correct & cited properly)\n",
        "- INCORRECT (factually wrong, outdated, or poorly cited)\n",
        "- INSUFFICIENT (not enough info to judge)\n",
        "\n",
        "Question: {question}\n",
        "Pipeline Answer: {pipeline_answer}\n",
        "Baseline Answer: {baseline_answer}\n",
        "Retrieved Docs: {retrieved_docs}\n",
        "\n",
        "Final Evaluation:\n",
        "\"\"\",\n",
        "    input_variables=[\"question\", \"pipeline_answer\", \"baseline_answer\", \"retrieved_docs\"]\n",
        ")\n",
        "\n",
        "evaluator_chain = LLMChain(llm=llm, prompt=eval_prompt)\n",
        "\n",
        "# Run evaluation\n",
        "results = []\n",
        "for q in sample_questions:\n",
        "    pipeline_ans = get_final_answer(q)\n",
        "    baseline_ans = llm.invoke(q).content\n",
        "    retrieved = base_retriever.get_relevant_documents(q)  # fetch top docs\n",
        "    \n",
        "    eval_result = evaluator_chain.run(\n",
        "        question=q,\n",
        "        pipeline_answer=pipeline_ans,\n",
        "        baseline_answer=baseline_ans,\n",
        "        retrieved_docs=\"\\n\".join([d.page_content for d in retrieved])\n",
        "    )\n",
        "    \n",
        "    results.append({\n",
        "        \"question\": q,\n",
        "        \"pipeline_answer\": pipeline_ans,\n",
        "        \"baseline_answer\": baseline_ans,\n",
        "        \"evaluation\": eval_result.strip()\n",
        "    })\n",
        "\n",
        "df = pd.DataFrame(results)\n",
        "df"
      ]
    },
    {
      "cell_type": "markdown",
      "id": "71d254bd-a29d-4574-9cd7-3181f9e8c640",
      "metadata": {},
      "source": [
        "## Single Question Test"
      ]
    },
    {
      "cell_type": "code",
      "execution_count": null,
      "id": "4323e9c8-a542-4718-90d6-436239dec0cd",
      "metadata": {
        "trusted": true
      },
      "outputs": [
        {
          "data": {
            "text/html": [
              "<pre style=\"white-space:pre;overflow-x:auto;line-height:normal;font-family:Menlo,'DejaVu Sans Mono',consolas,'Courier New',monospace\">\n",
              "<span style=\"font-weight: bold\">[</span>Search Query<span style=\"font-weight: bold\">]</span> <span style=\"color: #008080; text-decoration-color: #008080; font-weight: bold\">1</span>. Benefits of video games for children\n",
              "</pre>\n"
            ],
            "text/plain": [
              "\n",
              "\u001b[1m[\u001b[0mSearch Query\u001b[1m]\u001b[0m \u001b[1;36m1\u001b[0m. Benefits of video games for children\n"
            ]
          },
          "metadata": {},
          "output_type": "display_data"
        },
        {
          "data": {
            "text/html": [
              "<pre style=\"white-space:pre;overflow-x:auto;line-height:normal;font-family:Menlo,'DejaVu Sans Mono',consolas,'Courier New',monospace\">\n",
              "<span style=\"font-weight: bold\">[</span>Retrieved Documents<span style=\"font-weight: bold\">]</span> <span style=\"color: #808000; text-decoration-color: #808000\">...</span>\n",
              "</pre>\n"
            ],
            "text/plain": [
              "\n",
              "\u001b[1m[\u001b[0mRetrieved Documents\u001b[1m]\u001b[0m \u001b[33m...\u001b[0m\n"
            ]
          },
          "metadata": {},
          "output_type": "display_data"
        },
        {
          "data": {
            "text/html": [
              "<pre style=\"white-space:pre;overflow-x:auto;line-height:normal;font-family:Menlo,'DejaVu Sans Mono',consolas,'Courier New',monospace\">\n",
              "\n",
              "Source-<span style=\"color: #008080; text-decoration-color: #008080; font-weight: bold\">1</span>: Video games <span style=\"color: #008000; text-decoration-color: #008000\">'good for children'</span> Computer games can promote problem-solving and \n",
              "team-building in children, say games industry experts<span style=\"color: #808000; text-decoration-color: #808000\">...</span>.\n",
              "Source-<span style=\"color: #008080; text-decoration-color: #008080; font-weight: bold\">2</span>: Weaned on Video Games Video gamers are getting younger and younger. And parents and the \n",
              "video game industry agree that the implications are likely to be huge<span style=\"color: #808000; text-decoration-color: #808000\">...</span>.\n",
              "Source-<span style=\"color: #008080; text-decoration-color: #008080; font-weight: bold\">3</span>: Weaned on Video Games Video gamers are getting younger and younger. And parents and the \n",
              "video game industry agree that the implications are likely to be enormous<span style=\"color: #808000; text-decoration-color: #808000\">...</span>.\n",
              "Source-<span style=\"color: #008080; text-decoration-color: #008080; font-weight: bold\">4</span>: The games kids play today are too violent No wonder people love computer and video games. \n",
              "They #<span style=\"color: #008080; text-decoration-color: #008080; font-weight: bold\">39</span>;re realistic, fast-paced, interactive and challenging. Just about any age can play<span style=\"color: #808000; text-decoration-color: #808000\">...</span>.\n",
              "</pre>\n"
            ],
            "text/plain": [
              "\n",
              "\n",
              "Source-\u001b[1;36m1\u001b[0m: Video games \u001b[32m'good for children'\u001b[0m Computer games can promote problem-solving and \n",
              "team-building in children, say games industry experts\u001b[33m...\u001b[0m.\n",
              "Source-\u001b[1;36m2\u001b[0m: Weaned on Video Games Video gamers are getting younger and younger. And parents and the \n",
              "video game industry agree that the implications are likely to be huge\u001b[33m...\u001b[0m.\n",
              "Source-\u001b[1;36m3\u001b[0m: Weaned on Video Games Video gamers are getting younger and younger. And parents and the \n",
              "video game industry agree that the implications are likely to be enormous\u001b[33m...\u001b[0m.\n",
              "Source-\u001b[1;36m4\u001b[0m: The games kids play today are too violent No wonder people love computer and video games. \n",
              "They #\u001b[1;36m39\u001b[0m;re realistic, fast-paced, interactive and challenging. Just about any age can play\u001b[33m...\u001b[0m.\n"
            ]
          },
          "metadata": {},
          "output_type": "display_data"
        },
        {
          "data": {
            "text/html": [
              "<pre style=\"white-space:pre;overflow-x:auto;line-height:normal;font-family:Menlo,'DejaVu Sans Mono',consolas,'Courier New',monospace\">\n",
              "<span style=\"font-weight: bold\">[</span>Draft Answer<span style=\"font-weight: bold\">]</span>\n",
              "<span style=\"font-weight: bold\">{</span><span style=\"color: #008000; text-decoration-color: #008000\">'retrieved_docs'</span>: <span style=\"color: #008000; text-decoration-color: #008000\">\"Video games 'good for children' Computer games can promote problem-solving and </span>\n",
              "<span style=\"color: #008000; text-decoration-color: #008000\">team-building in children, say games industry experts.\\nWeaned on Video Games Video gamers are </span>\n",
              "<span style=\"color: #008000; text-decoration-color: #008000\">getting younger and younger. And parents and the video game industry agree that the implications are</span>\n",
              "<span style=\"color: #008000; text-decoration-color: #008000\">likely to be huge.\\nWeaned on Video Games Video gamers are getting younger and younger. And parents </span>\n",
              "<span style=\"color: #008000; text-decoration-color: #008000\">and the video game industry agree that the implications are likely to be enormous.\\nThe games kids </span>\n",
              "<span style=\"color: #008000; text-decoration-color: #008000\">play today are too violent No wonder people love computer and video games. They #39;re realistic, </span>\n",
              "<span style=\"color: #008000; text-decoration-color: #008000\">fast-paced, interactive and challenging. Just about any age can play.\"</span>, <span style=\"color: #008000; text-decoration-color: #008000\">'user_input'</span>: <span style=\"color: #008000; text-decoration-color: #008000\">'Are video </span>\n",
              "<span style=\"color: #008000; text-decoration-color: #008000\">games good for children?'</span>, <span style=\"color: #008000; text-decoration-color: #008000\">'text'</span>: <span style=\"color: #008000; text-decoration-color: #008000\">'According to games industry experts, computer games can promote </span>\n",
              "<span style=\"color: #008000; text-decoration-color: #008000\">problem-solving and team-building skills in children. Additionally, video games are realistic, </span>\n",
              "<span style=\"color: #008000; text-decoration-color: #008000\">fast-paced, interactive, and challenging, making them suitable for players of all ages.'</span><span style=\"font-weight: bold\">}</span>\n",
              "</pre>\n"
            ],
            "text/plain": [
              "\n",
              "\u001b[1m[\u001b[0mDraft Answer\u001b[1m]\u001b[0m\n",
              "\u001b[1m{\u001b[0m\u001b[32m'retrieved_docs'\u001b[0m: \u001b[32m\"Video games 'good for children' Computer games can promote problem-solving and \u001b[0m\n",
              "\u001b[32mteam-building in children, say games industry experts.\\nWeaned on Video Games Video gamers are \u001b[0m\n",
              "\u001b[32mgetting younger and younger. And parents and the video game industry agree that the implications are\u001b[0m\n",
              "\u001b[32mlikely to be huge.\\nWeaned on Video Games Video gamers are getting younger and younger. And parents \u001b[0m\n",
              "\u001b[32mand the video game industry agree that the implications are likely to be enormous.\\nThe games kids \u001b[0m\n",
              "\u001b[32mplay today are too violent No wonder people love computer and video games. They #39;re realistic, \u001b[0m\n",
              "\u001b[32mfast-paced, interactive and challenging. Just about any age can play.\"\u001b[0m, \u001b[32m'user_input'\u001b[0m: \u001b[32m'Are video \u001b[0m\n",
              "\u001b[32mgames good for children?'\u001b[0m, \u001b[32m'text'\u001b[0m: \u001b[32m'According to games industry experts, computer games can promote \u001b[0m\n",
              "\u001b[32mproblem-solving and team-building skills in children. Additionally, video games are realistic, \u001b[0m\n",
              "\u001b[32mfast-paced, interactive, and challenging, making them suitable for players of all ages.'\u001b[0m\u001b[1m}\u001b[0m\n"
            ]
          },
          "metadata": {},
          "output_type": "display_data"
        },
        {
          "data": {
            "text/html": [
              "<pre style=\"white-space:pre;overflow-x:auto;line-height:normal;font-family:Menlo,'DejaVu Sans Mono',consolas,'Courier New',monospace\">\n",
              "<span style=\"font-weight: bold\">[</span>Fact-Check Report<span style=\"font-weight: bold\">]</span>\n",
              "<span style=\"font-weight: bold\">{</span><span style=\"color: #008000; text-decoration-color: #008000\">'retrieved_docs'</span>: <span style=\"color: #008000; text-decoration-color: #008000\">\"Video games 'good for children' Computer games can promote problem-solving and </span>\n",
              "<span style=\"color: #008000; text-decoration-color: #008000\">team-building in children, say games industry experts.\\nWeaned on Video Games Video gamers are </span>\n",
              "<span style=\"color: #008000; text-decoration-color: #008000\">getting younger and younger. And parents and the video game industry agree that the implications are</span>\n",
              "<span style=\"color: #008000; text-decoration-color: #008000\">likely to be huge.\\nWeaned on Video Games Video gamers are getting younger and younger. And parents </span>\n",
              "<span style=\"color: #008000; text-decoration-color: #008000\">and the video game industry agree that the implications are likely to be enormous.\\nThe games kids </span>\n",
              "<span style=\"color: #008000; text-decoration-color: #008000\">play today are too violent No wonder people love computer and video games. They #39;re realistic, </span>\n",
              "<span style=\"color: #008000; text-decoration-color: #008000\">fast-paced, interactive and challenging. Just about any age can play.\"</span>, <span style=\"color: #008000; text-decoration-color: #008000\">'draft_answer'</span>: \n",
              "<span style=\"font-weight: bold\">{</span><span style=\"color: #008000; text-decoration-color: #008000\">'retrieved_docs'</span>: <span style=\"color: #008000; text-decoration-color: #008000\">\"Video games 'good for children' Computer games can promote problem-solving and </span>\n",
              "<span style=\"color: #008000; text-decoration-color: #008000\">team-building in children, say games industry experts.\\nWeaned on Video Games Video gamers are </span>\n",
              "<span style=\"color: #008000; text-decoration-color: #008000\">getting younger and younger. And parents and the video game industry agree that the implications are</span>\n",
              "<span style=\"color: #008000; text-decoration-color: #008000\">likely to be huge.\\nWeaned on Video Games Video gamers are getting younger and younger. And parents </span>\n",
              "<span style=\"color: #008000; text-decoration-color: #008000\">and the video game industry agree that the implications are likely to be enormous.\\nThe games kids </span>\n",
              "<span style=\"color: #008000; text-decoration-color: #008000\">play today are too violent No wonder people love computer and video games. They #39;re realistic, </span>\n",
              "<span style=\"color: #008000; text-decoration-color: #008000\">fast-paced, interactive and challenging. Just about any age can play.\"</span>, <span style=\"color: #008000; text-decoration-color: #008000\">'user_input'</span>: <span style=\"color: #008000; text-decoration-color: #008000\">'Are video </span>\n",
              "<span style=\"color: #008000; text-decoration-color: #008000\">games good for children?'</span>, <span style=\"color: #008000; text-decoration-color: #008000\">'text'</span>: <span style=\"color: #008000; text-decoration-color: #008000\">'According to games industry experts, computer games can promote </span>\n",
              "<span style=\"color: #008000; text-decoration-color: #008000\">problem-solving and team-building skills in children. Additionally, video games are realistic, </span>\n",
              "<span style=\"color: #008000; text-decoration-color: #008000\">fast-paced, interactive, and challenging, making them suitable for players of all ages.'</span><span style=\"font-weight: bold\">}</span>, <span style=\"color: #008000; text-decoration-color: #008000\">'text'</span>: \n",
              "<span style=\"color: #008000; text-decoration-color: #008000\">'1. The claim that \"The games kids play today are too violent\" is not supported by the context, </span>\n",
              "<span style=\"color: #008000; text-decoration-color: #008000\">which only mentions that video games can promote problem-solving and team-building skills in </span>\n",
              "<span style=\"color: #008000; text-decoration-color: #008000\">children.\\n2. The language in the draft answer is clear and unbiased.\\n3. Suggested correction: </span>\n",
              "<span style=\"color: #008000; text-decoration-color: #008000\">Remove the claim about the violence of games as it is not supported by the context. The revised </span>\n",
              "<span style=\"color: #008000; text-decoration-color: #008000\">answer could be: \"According to games industry experts, computer games can promote problem-solving </span>\n",
              "<span style=\"color: #008000; text-decoration-color: #008000\">and team-building skills in children. Additionally, video games are realistic, fast-paced, </span>\n",
              "<span style=\"color: #008000; text-decoration-color: #008000\">interactive, and challenging, making them suitable for players of all ages.\"'</span><span style=\"font-weight: bold\">}</span>\n",
              "</pre>\n"
            ],
            "text/plain": [
              "\n",
              "\u001b[1m[\u001b[0mFact-Check Report\u001b[1m]\u001b[0m\n",
              "\u001b[1m{\u001b[0m\u001b[32m'retrieved_docs'\u001b[0m: \u001b[32m\"Video games 'good for children' Computer games can promote problem-solving and \u001b[0m\n",
              "\u001b[32mteam-building in children, say games industry experts.\\nWeaned on Video Games Video gamers are \u001b[0m\n",
              "\u001b[32mgetting younger and younger. And parents and the video game industry agree that the implications are\u001b[0m\n",
              "\u001b[32mlikely to be huge.\\nWeaned on Video Games Video gamers are getting younger and younger. And parents \u001b[0m\n",
              "\u001b[32mand the video game industry agree that the implications are likely to be enormous.\\nThe games kids \u001b[0m\n",
              "\u001b[32mplay today are too violent No wonder people love computer and video games. They #39;re realistic, \u001b[0m\n",
              "\u001b[32mfast-paced, interactive and challenging. Just about any age can play.\"\u001b[0m, \u001b[32m'draft_answer'\u001b[0m: \n",
              "\u001b[1m{\u001b[0m\u001b[32m'retrieved_docs'\u001b[0m: \u001b[32m\"Video games 'good for children' Computer games can promote problem-solving and \u001b[0m\n",
              "\u001b[32mteam-building in children, say games industry experts.\\nWeaned on Video Games Video gamers are \u001b[0m\n",
              "\u001b[32mgetting younger and younger. And parents and the video game industry agree that the implications are\u001b[0m\n",
              "\u001b[32mlikely to be huge.\\nWeaned on Video Games Video gamers are getting younger and younger. And parents \u001b[0m\n",
              "\u001b[32mand the video game industry agree that the implications are likely to be enormous.\\nThe games kids \u001b[0m\n",
              "\u001b[32mplay today are too violent No wonder people love computer and video games. They #39;re realistic, \u001b[0m\n",
              "\u001b[32mfast-paced, interactive and challenging. Just about any age can play.\"\u001b[0m, \u001b[32m'user_input'\u001b[0m: \u001b[32m'Are video \u001b[0m\n",
              "\u001b[32mgames good for children?'\u001b[0m, \u001b[32m'text'\u001b[0m: \u001b[32m'According to games industry experts, computer games can promote \u001b[0m\n",
              "\u001b[32mproblem-solving and team-building skills in children. Additionally, video games are realistic, \u001b[0m\n",
              "\u001b[32mfast-paced, interactive, and challenging, making them suitable for players of all ages.'\u001b[0m\u001b[1m}\u001b[0m, \u001b[32m'text'\u001b[0m: \n",
              "\u001b[32m'1. The claim that \"The games kids play today are too violent\" is not supported by the context, \u001b[0m\n",
              "\u001b[32mwhich only mentions that video games can promote problem-solving and team-building skills in \u001b[0m\n",
              "\u001b[32mchildren.\\n2. The language in the draft answer is clear and unbiased.\\n3. Suggested correction: \u001b[0m\n",
              "\u001b[32mRemove the claim about the violence of games as it is not supported by the context. The revised \u001b[0m\n",
              "\u001b[32manswer could be: \"According to games industry experts, computer games can promote problem-solving \u001b[0m\n",
              "\u001b[32mand team-building skills in children. Additionally, video games are realistic, fast-paced, \u001b[0m\n",
              "\u001b[32minteractive, and challenging, making them suitable for players of all ages.\"'\u001b[0m\u001b[1m}\u001b[0m\n"
            ]
          },
          "metadata": {},
          "output_type": "display_data"
        },
        {
          "data": {
            "text/html": [
              "<pre style=\"white-space:pre;overflow-x:auto;line-height:normal;font-family:Menlo,'DejaVu Sans Mono',consolas,'Courier New',monospace\">\n",
              "<span style=\"font-weight: bold\">[</span>Final Answer<span style=\"font-weight: bold\">]</span>\n",
              "<span style=\"font-weight: bold\">{</span><span style=\"color: #008000; text-decoration-color: #008000\">'draft_answer'</span>: <span style=\"font-weight: bold\">{</span><span style=\"color: #008000; text-decoration-color: #008000\">'retrieved_docs'</span>: <span style=\"color: #008000; text-decoration-color: #008000\">\"Video games 'good for children' Computer games can promote </span>\n",
              "<span style=\"color: #008000; text-decoration-color: #008000\">problem-solving and team-building in children, say games industry experts.\\nWeaned on Video Games </span>\n",
              "<span style=\"color: #008000; text-decoration-color: #008000\">Video gamers are getting younger and younger. And parents and the video game industry agree that the</span>\n",
              "<span style=\"color: #008000; text-decoration-color: #008000\">implications are likely to be huge.\\nWeaned on Video Games Video gamers are getting younger and </span>\n",
              "<span style=\"color: #008000; text-decoration-color: #008000\">younger. And parents and the video game industry agree that the implications are likely to be </span>\n",
              "<span style=\"color: #008000; text-decoration-color: #008000\">enormous.\\nThe games kids play today are too violent No wonder people love computer and video games.</span>\n",
              "<span style=\"color: #008000; text-decoration-color: #008000\">They #39;re realistic, fast-paced, interactive and challenging. Just about any age can play.\"</span>, \n",
              "<span style=\"color: #008000; text-decoration-color: #008000\">'user_input'</span>: <span style=\"color: #008000; text-decoration-color: #008000\">'Are video games good for children?'</span>, <span style=\"color: #008000; text-decoration-color: #008000\">'text'</span>: <span style=\"color: #008000; text-decoration-color: #008000\">'According to games industry experts, </span>\n",
              "<span style=\"color: #008000; text-decoration-color: #008000\">computer games can promote problem-solving and team-building skills in children. Additionally, video</span>\n",
              "<span style=\"color: #008000; text-decoration-color: #008000\">games are realistic, fast-paced, interactive, and challenging, making them suitable for players of </span>\n",
              "<span style=\"color: #008000; text-decoration-color: #008000\">all ages.'</span><span style=\"font-weight: bold\">}</span>, <span style=\"color: #008000; text-decoration-color: #008000\">'fact_report'</span>: <span style=\"font-weight: bold\">{</span><span style=\"color: #008000; text-decoration-color: #008000\">'retrieved_docs'</span>: <span style=\"color: #008000; text-decoration-color: #008000\">\"Video games 'good for children' Computer games can </span>\n",
              "<span style=\"color: #008000; text-decoration-color: #008000\">promote problem-solving and team-building in children, say games industry experts.\\nWeaned on Video </span>\n",
              "<span style=\"color: #008000; text-decoration-color: #008000\">Games Video gamers are getting younger and younger. And parents and the video game industry agree </span>\n",
              "<span style=\"color: #008000; text-decoration-color: #008000\">that the implications are likely to be huge.\\nWeaned on Video Games Video gamers are getting younger</span>\n",
              "<span style=\"color: #008000; text-decoration-color: #008000\">and younger. And parents and the video game industry agree that the implications are likely to be </span>\n",
              "<span style=\"color: #008000; text-decoration-color: #008000\">enormous.\\nThe games kids play today are too violent No wonder people love computer and video games.</span>\n",
              "<span style=\"color: #008000; text-decoration-color: #008000\">They #39;re realistic, fast-paced, interactive and challenging. Just about any age can play.\"</span>, \n",
              "<span style=\"color: #008000; text-decoration-color: #008000\">'draft_answer'</span>: <span style=\"font-weight: bold\">{</span><span style=\"color: #008000; text-decoration-color: #008000\">'retrieved_docs'</span>: <span style=\"color: #008000; text-decoration-color: #008000\">\"Video games 'good for children' Computer games can promote </span>\n",
              "<span style=\"color: #008000; text-decoration-color: #008000\">problem-solving and team-building in children, say games industry experts.\\nWeaned on Video Games </span>\n",
              "<span style=\"color: #008000; text-decoration-color: #008000\">Video gamers are getting younger and younger. And parents and the video game industry agree that the</span>\n",
              "<span style=\"color: #008000; text-decoration-color: #008000\">implications are likely to be huge.\\nWeaned on Video Games Video gamers are getting younger and </span>\n",
              "<span style=\"color: #008000; text-decoration-color: #008000\">younger. And parents and the video game industry agree that the implications are likely to be </span>\n",
              "<span style=\"color: #008000; text-decoration-color: #008000\">enormous.\\nThe games kids play today are too violent No wonder people love computer and video games.</span>\n",
              "<span style=\"color: #008000; text-decoration-color: #008000\">They #39;re realistic, fast-paced, interactive and challenging. Just about any age can play.\"</span>, \n",
              "<span style=\"color: #008000; text-decoration-color: #008000\">'user_input'</span>: <span style=\"color: #008000; text-decoration-color: #008000\">'Are video games good for children?'</span>, <span style=\"color: #008000; text-decoration-color: #008000\">'text'</span>: <span style=\"color: #008000; text-decoration-color: #008000\">'According to games industry experts, </span>\n",
              "<span style=\"color: #008000; text-decoration-color: #008000\">computer games can promote problem-solving and team-building skills in children. Additionally, video</span>\n",
              "<span style=\"color: #008000; text-decoration-color: #008000\">games are realistic, fast-paced, interactive, and challenging, making them suitable for players of </span>\n",
              "<span style=\"color: #008000; text-decoration-color: #008000\">all ages.'</span><span style=\"font-weight: bold\">}</span>, <span style=\"color: #008000; text-decoration-color: #008000\">'text'</span>: <span style=\"color: #008000; text-decoration-color: #008000\">'1. The claim that \"The games kids play today are too violent\" is not supported</span>\n",
              "<span style=\"color: #008000; text-decoration-color: #008000\">by the context, which only mentions that video games can promote problem-solving and team-building </span>\n",
              "<span style=\"color: #008000; text-decoration-color: #008000\">skills in children.\\n2. The language in the draft answer is clear and unbiased.\\n3. Suggested </span>\n",
              "<span style=\"color: #008000; text-decoration-color: #008000\">correction: Remove the claim about the violence of games as it is not supported by the context. The </span>\n",
              "<span style=\"color: #008000; text-decoration-color: #008000\">revised answer could be: \"According to games industry experts, computer games can promote </span>\n",
              "<span style=\"color: #008000; text-decoration-color: #008000\">problem-solving and team-building skills in children. Additionally, video games are realistic, </span>\n",
              "<span style=\"color: #008000; text-decoration-color: #008000\">fast-paced, interactive, and challenging, making them suitable for players of all ages.\"'</span><span style=\"font-weight: bold\">}</span>, \n",
              "<span style=\"color: #008000; text-decoration-color: #008000\">'retrieved_docs'</span>: <span style=\"color: #008000; text-decoration-color: #008000\">\"Source-1: Video games 'good for children' Computer games can promote </span>\n",
              "<span style=\"color: #008000; text-decoration-color: #008000\">problem-solving and team-building in children, say games industry experts....\\nSource-2: Weaned on </span>\n",
              "<span style=\"color: #008000; text-decoration-color: #008000\">Video Games Video gamers are getting younger and younger. And parents and the video game industry </span>\n",
              "<span style=\"color: #008000; text-decoration-color: #008000\">agree that the implications are likely to be huge....\\nSource-3: Weaned on Video Games Video gamers </span>\n",
              "<span style=\"color: #008000; text-decoration-color: #008000\">are getting younger and younger. And parents and the video game industry agree that the implications</span>\n",
              "<span style=\"color: #008000; text-decoration-color: #008000\">are likely to be enormous....\\nSource-4: The games kids play today are too violent No wonder people </span>\n",
              "<span style=\"color: #008000; text-decoration-color: #008000\">love computer and video games. They #39;re realistic, fast-paced, interactive and challenging. Just </span>\n",
              "<span style=\"color: #008000; text-decoration-color: #008000\">about any age can play....\"</span>, <span style=\"color: #008000; text-decoration-color: #008000\">'user_input'</span>: <span style=\"color: #008000; text-decoration-color: #008000\">'Are video games good for children?'</span>, <span style=\"color: #008000; text-decoration-color: #008000\">'text'</span>: <span style=\"color: #008000; text-decoration-color: #008000\">'According </span>\n",
              "<span style=\"color: #008000; text-decoration-color: #008000\">to games industry experts, computer games can promote problem-solving and team-building skills in </span>\n",
              "<span style=\"color: #008000; text-decoration-color: #008000\">children. Additionally, video games are realistic, fast-paced, interactive, and challenging, making </span>\n",
              "<span style=\"color: #008000; text-decoration-color: #008000\">them suitable for players of all ages.\\n\\nFact-check Notes:\\n1. The claim that \"The games kids play </span>\n",
              "<span style=\"color: #008000; text-decoration-color: #008000\">today are too violent\" is not supported by the context, which only mentions that video games can </span>\n",
              "<span style=\"color: #008000; text-decoration-color: #008000\">promote problem-solving and team-building skills in children.\\n3. Suggested correction: Remove the </span>\n",
              "<span style=\"color: #008000; text-decoration-color: #008000\">claim about the violence of games as it is not supported by the context. The revised answer could </span>\n",
              "<span style=\"color: #008000; text-decoration-color: #008000\">be: \"According to games industry experts, computer games can promote problem-solving and </span>\n",
              "<span style=\"color: #008000; text-decoration-color: #008000\">team-building skills in children. Additionally, video games are realistic, fast-paced, interactive, </span>\n",
              "<span style=\"color: #008000; text-decoration-color: #008000\">and challenging, making them suitable for players of all ages.\"'</span><span style=\"font-weight: bold\">}</span>\n",
              "</pre>\n"
            ],
            "text/plain": [
              "\n",
              "\u001b[1m[\u001b[0mFinal Answer\u001b[1m]\u001b[0m\n",
              "\u001b[1m{\u001b[0m\u001b[32m'draft_answer'\u001b[0m: \u001b[1m{\u001b[0m\u001b[32m'retrieved_docs'\u001b[0m: \u001b[32m\"Video games 'good for children' Computer games can promote \u001b[0m\n",
              "\u001b[32mproblem-solving and team-building in children, say games industry experts.\\nWeaned on Video Games \u001b[0m\n",
              "\u001b[32mVideo gamers are getting younger and younger. And parents and the video game industry agree that the\u001b[0m\n",
              "\u001b[32mimplications are likely to be huge.\\nWeaned on Video Games Video gamers are getting younger and \u001b[0m\n",
              "\u001b[32myounger. And parents and the video game industry agree that the implications are likely to be \u001b[0m\n",
              "\u001b[32menormous.\\nThe games kids play today are too violent No wonder people love computer and video games.\u001b[0m\n",
              "\u001b[32mThey #39;re realistic, fast-paced, interactive and challenging. Just about any age can play.\"\u001b[0m, \n",
              "\u001b[32m'user_input'\u001b[0m: \u001b[32m'Are video games good for children?'\u001b[0m, \u001b[32m'text'\u001b[0m: \u001b[32m'According to games industry experts, \u001b[0m\n",
              "\u001b[32mcomputer games can promote problem-solving and team-building skills in children. Additionally, video\u001b[0m\n",
              "\u001b[32mgames are realistic, fast-paced, interactive, and challenging, making them suitable for players of \u001b[0m\n",
              "\u001b[32mall ages.'\u001b[0m\u001b[1m}\u001b[0m, \u001b[32m'fact_report'\u001b[0m: \u001b[1m{\u001b[0m\u001b[32m'retrieved_docs'\u001b[0m: \u001b[32m\"Video games 'good for children' Computer games can \u001b[0m\n",
              "\u001b[32mpromote problem-solving and team-building in children, say games industry experts.\\nWeaned on Video \u001b[0m\n",
              "\u001b[32mGames Video gamers are getting younger and younger. And parents and the video game industry agree \u001b[0m\n",
              "\u001b[32mthat the implications are likely to be huge.\\nWeaned on Video Games Video gamers are getting younger\u001b[0m\n",
              "\u001b[32mand younger. And parents and the video game industry agree that the implications are likely to be \u001b[0m\n",
              "\u001b[32menormous.\\nThe games kids play today are too violent No wonder people love computer and video games.\u001b[0m\n",
              "\u001b[32mThey #39;re realistic, fast-paced, interactive and challenging. Just about any age can play.\"\u001b[0m, \n",
              "\u001b[32m'draft_answer'\u001b[0m: \u001b[1m{\u001b[0m\u001b[32m'retrieved_docs'\u001b[0m: \u001b[32m\"Video games 'good for children' Computer games can promote \u001b[0m\n",
              "\u001b[32mproblem-solving and team-building in children, say games industry experts.\\nWeaned on Video Games \u001b[0m\n",
              "\u001b[32mVideo gamers are getting younger and younger. And parents and the video game industry agree that the\u001b[0m\n",
              "\u001b[32mimplications are likely to be huge.\\nWeaned on Video Games Video gamers are getting younger and \u001b[0m\n",
              "\u001b[32myounger. And parents and the video game industry agree that the implications are likely to be \u001b[0m\n",
              "\u001b[32menormous.\\nThe games kids play today are too violent No wonder people love computer and video games.\u001b[0m\n",
              "\u001b[32mThey #39;re realistic, fast-paced, interactive and challenging. Just about any age can play.\"\u001b[0m, \n",
              "\u001b[32m'user_input'\u001b[0m: \u001b[32m'Are video games good for children?'\u001b[0m, \u001b[32m'text'\u001b[0m: \u001b[32m'According to games industry experts, \u001b[0m\n",
              "\u001b[32mcomputer games can promote problem-solving and team-building skills in children. Additionally, video\u001b[0m\n",
              "\u001b[32mgames are realistic, fast-paced, interactive, and challenging, making them suitable for players of \u001b[0m\n",
              "\u001b[32mall ages.'\u001b[0m\u001b[1m}\u001b[0m, \u001b[32m'text'\u001b[0m: \u001b[32m'1. The claim that \"The games kids play today are too violent\" is not supported\u001b[0m\n",
              "\u001b[32mby the context, which only mentions that video games can promote problem-solving and team-building \u001b[0m\n",
              "\u001b[32mskills in children.\\n2. The language in the draft answer is clear and unbiased.\\n3. Suggested \u001b[0m\n",
              "\u001b[32mcorrection: Remove the claim about the violence of games as it is not supported by the context. The \u001b[0m\n",
              "\u001b[32mrevised answer could be: \"According to games industry experts, computer games can promote \u001b[0m\n",
              "\u001b[32mproblem-solving and team-building skills in children. Additionally, video games are realistic, \u001b[0m\n",
              "\u001b[32mfast-paced, interactive, and challenging, making them suitable for players of all ages.\"'\u001b[0m\u001b[1m}\u001b[0m, \n",
              "\u001b[32m'retrieved_docs'\u001b[0m: \u001b[32m\"Source-1: Video games 'good for children' Computer games can promote \u001b[0m\n",
              "\u001b[32mproblem-solving and team-building in children, say games industry experts....\\nSource-2: Weaned on \u001b[0m\n",
              "\u001b[32mVideo Games Video gamers are getting younger and younger. And parents and the video game industry \u001b[0m\n",
              "\u001b[32magree that the implications are likely to be huge....\\nSource-3: Weaned on Video Games Video gamers \u001b[0m\n",
              "\u001b[32mare getting younger and younger. And parents and the video game industry agree that the implications\u001b[0m\n",
              "\u001b[32mare likely to be enormous....\\nSource-4: The games kids play today are too violent No wonder people \u001b[0m\n",
              "\u001b[32mlove computer and video games. They #39;re realistic, fast-paced, interactive and challenging. Just \u001b[0m\n",
              "\u001b[32mabout any age can play....\"\u001b[0m, \u001b[32m'user_input'\u001b[0m: \u001b[32m'Are video games good for children?'\u001b[0m, \u001b[32m'text'\u001b[0m: \u001b[32m'According \u001b[0m\n",
              "\u001b[32mto games industry experts, computer games can promote problem-solving and team-building skills in \u001b[0m\n",
              "\u001b[32mchildren. Additionally, video games are realistic, fast-paced, interactive, and challenging, making \u001b[0m\n",
              "\u001b[32mthem suitable for players of all ages.\\n\\nFact-check Notes:\\n1. The claim that \"The games kids play \u001b[0m\n",
              "\u001b[32mtoday are too violent\" is not supported by the context, which only mentions that video games can \u001b[0m\n",
              "\u001b[32mpromote problem-solving and team-building skills in children.\\n3. Suggested correction: Remove the \u001b[0m\n",
              "\u001b[32mclaim about the violence of games as it is not supported by the context. The revised answer could \u001b[0m\n",
              "\u001b[32mbe: \"According to games industry experts, computer games can promote problem-solving and \u001b[0m\n",
              "\u001b[32mteam-building skills in children. Additionally, video games are realistic, fast-paced, interactive, \u001b[0m\n",
              "\u001b[32mand challenging, making them suitable for players of all ages.\"'\u001b[0m\u001b[1m}\u001b[0m\n"
            ]
          },
          "metadata": {},
          "output_type": "display_data"
        }
      ],
      "source": [
        "if __name__ == \"__main__\":\n",
        "    user_q = \"Are video games good for children?\"\n",
        "\n",
        "    get_final_answer(user_q)"
      ]
    }
  ],
  "metadata": {
    "kernelspec": {
      "display_name": "news-project",
      "language": "python",
      "name": "python3"
    },
    "language_info": {
      "codemirror_mode": {
        "name": "ipython",
        "version": 3
      },
      "file_extension": ".py",
      "mimetype": "text/x-python",
      "name": "python",
      "nbconvert_exporter": "python",
      "pygments_lexer": "ipython3",
      "version": "3.10.18"
    }
  },
  "nbformat": 4,
  "nbformat_minor": 5
}
